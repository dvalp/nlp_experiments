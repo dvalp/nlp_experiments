{
 "cells": [
  {
   "metadata": {},
   "cell_type": "markdown",
   "source": [
    "# Classes\n",
    "\n",
    "OOP in Python heavily relies on the concept of class. You can think of a class as a blueprint that is used to create objects. To illustrate this, imagine that you have a blueprint for a speaker. You can use this blueprint to build multiple speakers. Each speaker that is created using the blueprint is an instance of the blueprint. Also, each created speaker has its attributes such as color, model, and name. They will also have their methods showing a certain kind of behavior such as volume up and volume down.\n",
    "\n",
    "One of the main goals of OOP is cleaner code.\n",
    "\n",
    "> Any fool can write code that a computer can understand. Good programmers write code that humans can understand. – Martin Fowler\n",
    "\n",
    "In their most basic form, classes are containers defined in code. They hold data and code together in one place. This means the data and the code that works with that data can be passed around and used together (encapsulation). Most complex objects in Python are classes.\n",
    "\n",
    "The simplist class can be used to define an object like a point on a graph. Also note that in Python, class names are always writting in camel case (FirstLetterCapitalized).\n"
   ],
   "id": "856417348546fcc9"
  },
  {
   "metadata": {
    "ExecuteTime": {
     "end_time": "2024-07-31T15:48:04.833055Z",
     "start_time": "2024-07-31T15:48:04.810828Z"
    }
   },
   "cell_type": "code",
   "source": [
    "class Point:\n",
    "    def __init__(self, x, y):\n",
    "        self.x = x\n",
    "        self.y = y\n",
    "        \n",
    "point1 = Point(1, 2)"
   ],
   "id": "f8d073a1e873fe46",
   "outputs": [],
   "execution_count": 7
  },
  {
   "metadata": {},
   "cell_type": "markdown",
   "source": "This isn't very helpful, except for storing data. You can add some code to work with the data.",
   "id": "9a07996273ae9911"
  },
  {
   "metadata": {
    "ExecuteTime": {
     "end_time": "2024-07-31T15:49:15.531657Z",
     "start_time": "2024-07-31T15:49:15.526123Z"
    }
   },
   "cell_type": "code",
   "source": [
    "class Point:\n",
    "    def __init__(self, x, y):\n",
    "        self.x = x\n",
    "        self.y = y\n",
    "        \n",
    "    def __add__(self, other):\n",
    "        return Point(self.x + other.x, self.y + other.y)\n",
    "\n",
    "point1 = Point(1, 2)\n",
    "point2 = Point(2, 3)\n",
    "point3 = point1 + point2\n",
    "print(point3.x, point3.y)"
   ],
   "id": "25cd657a1584cd7f",
   "outputs": [
    {
     "name": "stdout",
     "output_type": "stream",
     "text": [
      "3 5\n"
     ]
    }
   ],
   "execution_count": 11
  },
  {
   "metadata": {},
   "cell_type": "markdown",
   "source": "The fact that almost everything in Python is a class allows me to do things like this with a string. Any string has the string methods included with it. When I make a string, I also get this added functionality with it - no imports are required. This keeps things much cleaner.",
   "id": "11e29fcf05ee844a"
  },
  {
   "metadata": {
    "ExecuteTime": {
     "end_time": "2024-07-31T15:51:48.101040Z",
     "start_time": "2024-07-31T15:51:48.096534Z"
    }
   },
   "cell_type": "code",
   "source": "print(\"some kind of title string\".title())",
   "id": "c875ef463781cec5",
   "outputs": [
    {
     "name": "stdout",
     "output_type": "stream",
     "text": [
      "Some Kind Of Title String\n"
     ]
    }
   ],
   "execution_count": 12
  },
  {
   "metadata": {},
   "cell_type": "markdown",
   "source": "This is probably a good time to note there is a difference between class variable and an instance variable. A class variable is defined at the top level of a class and shared among all instances of a class. An instance variable is defined when the instance is built from the class and cannot be shared with other instances (mostly).",
   "id": "2b0f5dbbbc9c8023"
  },
  {
   "metadata": {},
   "cell_type": "code",
   "outputs": [],
   "execution_count": null,
   "source": [
    "class Wall:\n",
    "    def __init__(self):\n",
    "        self.height = 10\n",
    "\n",
    "\n",
    "south_wall = Wall()\n",
    "south_wall.height = 20 # only updates this instance of a wall\n",
    "print(south_wall.height)\n",
    "# prints \"20\"\n",
    "\n",
    "north_wall = Wall()\n",
    "print(north_wall.height)\n",
    "# prints \"10\"\n"
   ],
   "id": "9875d0c2bd406b0a"
  },
  {
   "metadata": {},
   "cell_type": "code",
   "outputs": [],
   "execution_count": null,
   "source": [
    "\n",
    "class Fence:\n",
    "    height = 10\n",
    "\n",
    "\n",
    "south_fence = Fence()\n",
    "print(south_fence.height)\n",
    "# prints \"10\"\n",
    "\n",
    "Fence.height = 20 # updates all instances of a Wall\n",
    "\n",
    "print(south_fence.height)\n",
    "# prints \"20\"\n"
   ],
   "id": "8692df1317b58220"
  },
  {
   "metadata": {},
   "cell_type": "markdown",
   "source": [
    "## Inheritance\n",
    "\n",
    "One very useful aspect of Python classes is that they can re-use and extend existing classes. Anything defined in the parent class is available in the child class, with some extra things to pay attention to.\n",
    "\n",
    "When working with a child class, we can also access anything defined on the parent class."
   ],
   "id": "fd96f064ace95bc4"
  },
  {
   "metadata": {
    "ExecuteTime": {
     "end_time": "2024-07-31T16:14:27.200858Z",
     "start_time": "2024-07-31T16:14:27.194343Z"
    }
   },
   "cell_type": "code",
   "source": [
    "class Animal:\n",
    "    def breathe(self):\n",
    "        print(\"Breathing...\")\n",
    "    \n",
    "    def eat(self):\n",
    "        print(\"Eating...\")\n",
    "        \n",
    "    def sleep(self):\n",
    "        print(\"Sleeping...\")\n",
    "        \n",
    "\n",
    "class Dog(Animal):\n",
    "    def bark(self):\n",
    "        print(\"Barking...\")\n",
    "        \n",
    "\n",
    "class Cat(Animal):\n",
    "    def meow(self):\n",
    "        print(\"Meowing...\")\n",
    "        \n",
    "        \n",
    "dog = Dog()\n",
    "cat = Cat()\n",
    "\n",
    "dog.breathe()\n",
    "cat.eat()\n",
    "\n",
    "dog.bark()\n",
    "cat.meow()"
   ],
   "id": "4d927d07566fa5ec",
   "outputs": [
    {
     "name": "stdout",
     "output_type": "stream",
     "text": [
      "Breathing...\n",
      "Breathing...\n",
      "Barking...\n",
      "Meowing...\n"
     ]
    }
   ],
   "execution_count": 13
  },
  {
   "metadata": {
    "ExecuteTime": {
     "end_time": "2024-07-31T16:15:15.601167Z",
     "start_time": "2024-07-31T16:15:15.547833Z"
    }
   },
   "cell_type": "code",
   "source": [
    "cat.bark()\n",
    "dog.meow()"
   ],
   "id": "fcbf7f53e3c55bd2",
   "outputs": [
    {
     "ename": "AttributeError",
     "evalue": "'Cat' object has no attribute 'bark'",
     "output_type": "error",
     "traceback": [
      "\u001B[0;31m---------------------------------------------------------------------------\u001B[0m",
      "\u001B[0;31mAttributeError\u001B[0m                            Traceback (most recent call last)",
      "Cell \u001B[0;32mIn[14], line 1\u001B[0m\n\u001B[0;32m----> 1\u001B[0m \u001B[43mcat\u001B[49m\u001B[38;5;241;43m.\u001B[39;49m\u001B[43mbark\u001B[49m()\n\u001B[1;32m      2\u001B[0m dog\u001B[38;5;241m.\u001B[39mmeow()\n",
      "\u001B[0;31mAttributeError\u001B[0m: 'Cat' object has no attribute 'bark'"
     ]
    }
   ],
   "execution_count": 14
  },
  {
   "metadata": {},
   "cell_type": "markdown",
   "source": [
    "Inheritance makes templates possible for writing code. By defining an abstract base class, you can create templates for what a type of code should look like. SKLearn takes advantage of this to require that models all have fit and transform methods to train the models and apply them.\n",
    "\n",
    "https://github.com/scikit-learn/scikit-learn/blob/70fdc843a/sklearn/linear_model/_base.py#L465\n",
    "https://github.com/scikit-learn/scikit-learn/blob/70fdc843a4b8182d97a3508c1a426acc5e87e980/sklearn/linear_model/_base.py#L275\n",
    "https://github.com/scikit-learn/scikit-learn/blob/70fdc843a4b8182d97a3508c1a426acc5e87e980/sklearn/base.py#L152"
   ],
   "id": "e43409fb711f9497"
  },
  {
   "metadata": {},
   "cell_type": "code",
   "outputs": [],
   "execution_count": null,
   "source": "",
   "id": "495e9ef1459e51c3"
  },
  {
   "metadata": {},
   "cell_type": "markdown",
   "source": [
    "## Links\n",
    "\n",
    "* https://www.programiz.com/python-programming/object-oriented-programming\n",
    "* https://realpython.com/python-super/\n",
    "* https://www.freecodecamp.org/news/crash-course-object-oriented-programming-in-python/"
   ],
   "id": "2034b2d79e8732d1"
  }
 ],
 "metadata": {
  "kernelspec": {
   "display_name": "Python 3",
   "language": "python",
   "name": "python3"
  },
  "language_info": {
   "codemirror_mode": {
    "name": "ipython",
    "version": 2
   },
   "file_extension": ".py",
   "mimetype": "text/x-python",
   "name": "python",
   "nbconvert_exporter": "python",
   "pygments_lexer": "ipython2",
   "version": "2.7.6"
  }
 },
 "nbformat": 4,
 "nbformat_minor": 5
}
