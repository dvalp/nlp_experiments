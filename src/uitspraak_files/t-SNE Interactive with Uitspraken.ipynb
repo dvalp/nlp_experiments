{
 "cells": [
  {
   "cell_type": "markdown",
   "metadata": {},
   "source": [
    "# t-SNE for data exploration\n",
    "\n",
    "The algorithm (t-Distributed Stochastic Neighbor Embedding) can be used to describe high dimensional relationships in a lower dimension. This can be useful in data exploration for identifying things like clusters or other patterns in the data representation. The representation here will be vectors found by FastText for documents in a set.\n",
    "\n",
    "The data will be decisions (uitspraken) put out by the Dutch Supreme Court (De Hoge Raad). These documents are available freely online and have already been labeled for some information on the type of case being handled and which branch of the judicial system handled the case.\n",
    "\n",
    "### SETUP\n",
    "Change directory to the `src` directory because most of the paths currently assume that location."
   ]
  },
  {
   "cell_type": "code",
   "execution_count": 1,
   "metadata": {
    "ExecuteTime": {
     "end_time": "2023-09-18T19:48:18.864876Z",
     "start_time": "2023-09-18T19:48:18.727802Z"
    }
   },
   "outputs": [
    {
     "name": "stdout",
     "output_type": "stream",
     "text": [
      "/Users/dvalpey/practice/nlp_experiments\n"
     ]
    }
   ],
   "source": [
    "%cd ../.."
   ]
  },
  {
   "cell_type": "markdown",
   "metadata": {},
   "source": [
    "Imports for running the following code. The `ipywidgets` package is what allows us to do interactive refactoring for the t-SNE exploration."
   ]
  },
  {
   "cell_type": "code",
   "execution_count": 2,
   "metadata": {
    "ExecuteTime": {
     "end_time": "2023-09-18T19:48:20.021409Z",
     "start_time": "2023-09-18T19:48:18.733825Z"
    }
   },
   "outputs": [
    {
     "ename": "ModuleNotFoundError",
     "evalue": "No module named 'gensim.summarization'",
     "output_type": "error",
     "traceback": [
      "\u001b[0;31m---------------------------------------------------------------------------\u001b[0m",
      "\u001b[0;31mModuleNotFoundError\u001b[0m                       Traceback (most recent call last)",
      "Cell \u001b[0;32mIn[2], line 11\u001b[0m\n\u001b[1;32m      8\u001b[0m \u001b[38;5;28;01mfrom\u001b[39;00m \u001b[38;5;21;01msklearn\u001b[39;00m\u001b[38;5;21;01m.\u001b[39;00m\u001b[38;5;21;01mdecomposition\u001b[39;00m \u001b[38;5;28;01mimport\u001b[39;00m PCA, TruncatedSVD\n\u001b[1;32m      9\u001b[0m \u001b[38;5;28;01mfrom\u001b[39;00m \u001b[38;5;21;01msklearn\u001b[39;00m\u001b[38;5;21;01m.\u001b[39;00m\u001b[38;5;21;01mmanifold\u001b[39;00m \u001b[38;5;28;01mimport\u001b[39;00m TSNE\n\u001b[0;32m---> 11\u001b[0m \u001b[38;5;28;01mfrom\u001b[39;00m \u001b[38;5;21;01msrc\u001b[39;00m\u001b[38;5;21;01m.\u001b[39;00m\u001b[38;5;21;01muitspraak_files\u001b[39;00m\u001b[38;5;21;01m.\u001b[39;00m\u001b[38;5;21;01mextract_from_xmls\u001b[39;00m \u001b[38;5;28;01mimport\u001b[39;00m parse_xmls\n\u001b[1;32m     12\u001b[0m get_ipython()\u001b[38;5;241m.\u001b[39mrun_line_magic(\u001b[38;5;124m'\u001b[39m\u001b[38;5;124mmatplotlib\u001b[39m\u001b[38;5;124m'\u001b[39m, \u001b[38;5;124m'\u001b[39m\u001b[38;5;124minline\u001b[39m\u001b[38;5;124m'\u001b[39m)\n",
      "File \u001b[0;32m~/practice/nlp_experiments/src/uitspraak_files/extract_from_xmls.py:19\u001b[0m\n\u001b[1;32m     16\u001b[0m \u001b[38;5;28;01mfrom\u001b[39;00m \u001b[38;5;21;01mlxml\u001b[39;00m \u001b[38;5;28;01mimport\u001b[39;00m etree\n\u001b[1;32m     18\u001b[0m \u001b[38;5;28;01mfrom\u001b[39;00m \u001b[38;5;21;01msrc\u001b[39;00m\u001b[38;5;21;01m.\u001b[39;00m\u001b[38;5;21;01muitspraak_files\u001b[39;00m\u001b[38;5;21;01m.\u001b[39;00m\u001b[38;5;21;01mprocess_rechtspraak_zips\u001b[39;00m \u001b[38;5;28;01mimport\u001b[39;00m XML_DIR\n\u001b[0;32m---> 19\u001b[0m \u001b[38;5;28;01mfrom\u001b[39;00m \u001b[38;5;21;01msrc\u001b[39;00m\u001b[38;5;21;01m.\u001b[39;00m\u001b[38;5;21;01mvector_models\u001b[39;00m\u001b[38;5;21;01m.\u001b[39;00m\u001b[38;5;21;01mfasttext_model\u001b[39;00m \u001b[38;5;28;01mimport\u001b[39;00m vectorize_text, load_model, VECTOR_SIZE\n\u001b[1;32m     22\u001b[0m \u001b[38;5;28;01mdef\u001b[39;00m \u001b[38;5;21mparse_xmls\u001b[39m(xml_dir: Path \u001b[38;5;241m=\u001b[39m XML_DIR) \u001b[38;5;241m-\u001b[39m\u001b[38;5;241m>\u001b[39m Iterator[Dict[\u001b[38;5;28mstr\u001b[39m, Any]]:\n\u001b[1;32m     23\u001b[0m \u001b[38;5;250m    \u001b[39m\u001b[38;5;124;03m\"\"\"\u001b[39;00m\n\u001b[1;32m     24\u001b[0m \u001b[38;5;124;03m    The main work of extracting information from xml is done here. Improving\u001b[39;00m\n\u001b[1;32m     25\u001b[0m \u001b[38;5;124;03m    access to the metadata by fields would help a lot.\u001b[39;00m\n\u001b[1;32m     26\u001b[0m \n\u001b[1;32m     27\u001b[0m \u001b[38;5;124;03m    :return: Dict of data from an XML file\u001b[39;00m\n\u001b[1;32m     28\u001b[0m \u001b[38;5;124;03m    \"\"\"\u001b[39;00m\n",
      "File \u001b[0;32m~/practice/nlp_experiments/src/vector_models/fasttext_model.py:7\u001b[0m\n\u001b[1;32m      5\u001b[0m \u001b[38;5;28;01mfrom\u001b[39;00m \u001b[38;5;21;01melasticsearch\u001b[39;00m\u001b[38;5;21;01m.\u001b[39;00m\u001b[38;5;21;01mhelpers\u001b[39;00m \u001b[38;5;28;01mimport\u001b[39;00m streaming_bulk\n\u001b[1;32m      6\u001b[0m \u001b[38;5;28;01mfrom\u001b[39;00m \u001b[38;5;21;01mgensim\u001b[39;00m\u001b[38;5;21;01m.\u001b[39;00m\u001b[38;5;21;01mmodels\u001b[39;00m \u001b[38;5;28;01mimport\u001b[39;00m FastText\n\u001b[0;32m----> 7\u001b[0m \u001b[38;5;28;01mfrom\u001b[39;00m \u001b[38;5;21;01mgensim\u001b[39;00m\u001b[38;5;21;01m.\u001b[39;00m\u001b[38;5;21;01msummarization\u001b[39;00m\u001b[38;5;21;01m.\u001b[39;00m\u001b[38;5;21;01mtextcleaner\u001b[39;00m \u001b[38;5;28;01mimport\u001b[39;00m get_sentences\n\u001b[1;32m      8\u001b[0m \u001b[38;5;28;01mfrom\u001b[39;00m \u001b[38;5;21;01mgensim\u001b[39;00m\u001b[38;5;21;01m.\u001b[39;00m\u001b[38;5;21;01mutils\u001b[39;00m \u001b[38;5;28;01mimport\u001b[39;00m simple_preprocess\n\u001b[1;32m      9\u001b[0m \u001b[38;5;28;01mfrom\u001b[39;00m \u001b[38;5;21;01mtqdm\u001b[39;00m \u001b[38;5;28;01mimport\u001b[39;00m tqdm\n",
      "\u001b[0;31mModuleNotFoundError\u001b[0m: No module named 'gensim.summarization'"
     ]
    }
   ],
   "source": [
    "from collections import Counter\n",
    "from time import time\n",
    "\n",
    "import ipywidgets as widgets\n",
    "import matplotlib.pyplot as plt\n",
    "from ipywidgets import interact\n",
    "from matplotlib.colors import ListedColormap\n",
    "from sklearn.decomposition import PCA, TruncatedSVD\n",
    "from sklearn.manifold import TSNE\n",
    "\n",
    "from src.uitspraak_files.extract_from_xmls import parse_xmls\n",
    "%matplotlib inline"
   ]
  },
  {
   "cell_type": "markdown",
   "metadata": {},
   "source": [
    "Load and parse XML files. We drop the text field here because we won't need it, and it makes the objects easier to read if we want to later."
   ]
  },
  {
   "cell_type": "code",
   "execution_count": null,
   "metadata": {
    "ExecuteTime": {
     "end_time": "2023-09-18T19:48:20.029419Z",
     "start_time": "2023-09-18T19:48:20.023138Z"
    }
   },
   "outputs": [],
   "source": [
    "parsed_docs = list(parse_xmls())\n",
    "for doc in parsed_docs:\n",
    "    del doc[\"text\"]\n",
    "parsed_docs[0]"
   ]
  },
  {
   "cell_type": "markdown",
   "metadata": {},
   "source": [
    "This data set has multiple categorical fields that could be used for classification. For the sake of simplicity, we'll pick on that has a smaller number of possible label (for example: subject or procedure). The legal domain in this case identifies the kind of law that applies and was taken from the more general part of the subject field. Further exploration could include coloring the data to match on of the other fields and see how the patterns change."
   ]
  },
  {
   "cell_type": "code",
   "execution_count": null,
   "metadata": {
    "ExecuteTime": {
     "start_time": "2023-09-18T19:48:20.024682Z"
    }
   },
   "outputs": [],
   "source": [
    "Counter(doc.get('legal_domain') for doc in parsed_docs)"
   ]
  },
  {
   "cell_type": "markdown",
   "metadata": {},
   "source": [
    "### Simple application\n",
    "The t-SNE solution in Scikit Learn is easy to apply and display. It only takes about one line of code to learn and apply a lower dimenional representation of the data. In this example we will take 100-dimensional word vectors and display them in a 2-dimensional grid. The colors will represent a classification on the type of case being represented.\n",
    "\n",
    "First, we'll plot a simple PCA and t-SNE together so we can compare the results of the different distributions."
   ]
  },
  {
   "cell_type": "code",
   "execution_count": null,
   "metadata": {
    "ExecuteTime": {
     "start_time": "2023-09-18T19:48:20.026097Z"
    }
   },
   "outputs": [],
   "source": [
    "inputs = [doc['doc_vector'] for doc in parsed_docs]\n",
    "labels = [doc.get('legal_domain') for doc in parsed_docs]\n",
    "\n",
    "pca0 = time()\n",
    "X_pca = TruncatedSVD(n_components=2).fit_transform(inputs)\n",
    "pca_time = time() - pca0\n",
    "\n",
    "tsne = TSNE(n_components=2, init='pca', random_state=0)\n",
    "tsne0 = time()\n",
    "X_tsne = tsne.fit_transform(inputs)\n",
    "tsne_time = time() - tsne0"
   ]
  },
  {
   "cell_type": "code",
   "execution_count": null,
   "metadata": {
    "ExecuteTime": {
     "start_time": "2023-09-18T19:48:20.027487Z"
    }
   },
   "outputs": [],
   "source": [
    "pca_xy = list(zip(*X_pca))\n",
    "tsne_xy = list(zip(*X_tsne))\n",
    "\n",
    "classes = ['Strafrecht', 'Civiel recht', 'Bestuursrecht', 'Internationaal publiekrecht']\n",
    "color_names = ListedColormap(['blue', 'orange', 'green', 'purple'])\n",
    "color_mapping = {'Strafrecht': 0,\n",
    "                 'Civiel recht': 1,\n",
    "                 'Bestuursrecht': 2,\n",
    "                 'Internationaal publiekrecht': 3}\n",
    "colors = [color_mapping[doc.get('legal_domain')] for doc in parsed_docs]\n",
    "\n",
    "fig, (ax1, ax2) = plt.subplots(1, 2, figsize=(16, 8))\n",
    "\n",
    "scatter1 = ax1.scatter(tsne_xy[0], tsne_xy[1], c=colors, cmap=color_names, marker=\".\")\n",
    "ax1.set_title(f\"t-SNE embedding of documents (time={tsne_time:.2f}s)\")\n",
    "\n",
    "scatter2 = ax2.scatter(pca_xy[0], pca_xy[1], c=colors, cmap=color_names, marker=\".\")\n",
    "ax2.set_title(f\"PCA embedding of documents (time={pca_time:.2f}s)\")\n",
    "fig.legend(handles=scatter2.legend_elements()[0], labels=classes, loc=\"center right\")\n",
    "plt.show()"
   ]
  },
  {
   "cell_type": "markdown",
   "metadata": {},
   "source": [
    "The figure on the left (t-SNE) gives more of a spread to the data. The algorithm tends to make sparse clusters more dense and do the oposite to dense clusters, so the shapes don't have a lot of meaning in themselves - we can't really interpret the size or distance between groups directly.\n",
    "\n",
    "We can see areas of clear separation or mixing and see that some parts of the group are more connected to groupings of another class. In this case, it does appear that there is a certain amount of mixing between the groups."
   ]
  },
  {
   "cell_type": "markdown",
   "metadata": {},
   "source": [
    "### 3d views\n",
    "From the above image, it looks like there might not be a clear partition of the data. It's hard to tell if the colored sections truly merge, or if they might be superimposed over each when viewed from a higher dimensional space.\n",
    "It is possible to rotate this image (disabled because it was too much for my machine at this scale) and see the data separated into colored bands in the 3rd dimension."
   ]
  },
  {
   "cell_type": "code",
   "execution_count": null,
   "metadata": {
    "ExecuteTime": {
     "start_time": "2023-09-18T19:48:20.029102Z"
    }
   },
   "outputs": [],
   "source": [
    "tsne_3d = TSNE(n_components=3, init='pca', random_state=0, n_jobs=-1)\n",
    "tsne0_3d = time()\n",
    "X_tsne_3d = tsne_3d.fit_transform(inputs)\n",
    "tsne_time_3d = time() - tsne0_3d\n",
    "\n",
    "tsne_xyz = list(zip(*X_tsne_3d))\n",
    "classes = ['Strafrecht', 'Civiel recht', 'Bestuursrecht', 'Internationaal publiekrecht']\n",
    "color_names = ListedColormap(['blue', 'orange', 'green', 'purple'])\n",
    "color_mapping = {'Strafrecht': 0,\n",
    "                 'Civiel recht': 1,\n",
    "                 'Bestuursrecht': 2,\n",
    "                 'Internationaal publiekrecht': 3}\n",
    "colors = [color_mapping[doc.get('legal_domain')] for doc in parsed_docs]\n",
    "\n",
    "fig_3d = plt.figure(figsize=(15.0, 15.0))\n",
    "ax_3d = fig_3d.add_subplot(111, projection='3d')\n",
    "\n",
    "scatter_3d = ax_3d.scatter(xs=tsne_xyz[0], ys=tsne_xyz[1], zs=tsne_xyz[2], \n",
    "                        c=colors, cmap=color_names, marker=\".\", depthshade=True)\n",
    "fig.legend(handles=scatter_3d.legend_elements()[0], labels=classes, loc=\"center right\")\n",
    "plt.show()"
   ]
  },
  {
   "cell_type": "markdown",
   "metadata": {},
   "source": [
    "### t-SNE + PCA\n",
    "One problem with t-SNE is that it scales quadratically with the number of features (O(n^2)). So feature reduction with this method works best with a lower number of features. It turns out that ~50 is a good number. It also happens that we can use another method like PCA to reduce our feature space before applying t-SNE, and this won't even have much effect on the final view of the data.\n",
    "\n",
    "Below is a comparison of the results of t-SNE by itself (from above) and the combined results of t-SNE + PCA."
   ]
  },
  {
   "cell_type": "code",
   "execution_count": null,
   "metadata": {
    "ExecuteTime": {
     "start_time": "2023-09-18T19:48:20.030458Z"
    }
   },
   "outputs": [],
   "source": [
    "pca0_50 = time()\n",
    "X_pca_50 = PCA(n_components=50).fit_transform(inputs)\n",
    "pca_time_50 = time() - pca0\n",
    "\n",
    "tsne_50 = TSNE(n_components=2, init='pca', random_state=0, n_jobs=-1)\n",
    "tsne0_50 = time()\n",
    "X_tsne_50 = tsne_50.fit_transform(X_pca_50)\n",
    "tsne_time_50 = time() - tsne0_50\n",
    "\n",
    "tsne_xy_50 = list(zip(*X_tsne_50))\n",
    "\n",
    "classes = ['Strafrecht', 'Civiel recht', 'Bestuursrecht', 'Internationaal publiekrecht']\n",
    "color_names = ListedColormap(['blue', 'orange', 'green', 'purple'])\n",
    "color_mapping = {'Strafrecht': 0,\n",
    "                 'Civiel recht': 1,\n",
    "                 'Bestuursrecht': 2,\n",
    "                 'Internationaal publiekrecht': 3}\n",
    "colors = [color_mapping[doc.get('legal_domain')] for doc in parsed_docs]\n",
    "\n",
    "fig, (ax1, ax2) = plt.subplots(1, 2, figsize=(16, 8), sharey=True)\n",
    "\n",
    "scatter1 = ax1.scatter(tsne_xy[0], tsne_xy[1], c=colors, cmap=color_names, marker=\".\")\n",
    "ax1.set_title(f\"t-SNE embedding of documents (time={tsne_time:.2f}s)\")\n",
    "\n",
    "scatter2 = ax2.scatter(tsne_xy_50[0], tsne_xy_50[1], c=colors, cmap=color_names, marker=\".\")\n",
    "ax2.set_title(f\"PCA reduction of documents before t-SNE (time={tsne_time_50:.2f}s)\")\n",
    "fig.legend(handles=scatter2.legend_elements()[0], labels=classes, loc=\"lower right\")\n",
    "plt.show()"
   ]
  },
  {
   "cell_type": "code",
   "execution_count": null,
   "metadata": {
    "ExecuteTime": {
     "start_time": "2023-09-18T19:48:20.031228Z"
    }
   },
   "outputs": [],
   "source": [
    "print(tsne_time, tsne_time_50)"
   ]
  },
  {
   "cell_type": "markdown",
   "metadata": {},
   "source": [
    "The results look very similar, but the time taken to process the t-SNE reduction of the data is significantly (~30 seconds) faster. This will speed up our exploration of the hyperparameters for t-SNE by a lot, but give us very similar results.\n",
    "\n",
    "### Interactive exploration\n",
    "So great, in a short amount of time we can have several pretty looking plots of our data. What's wrong with that?\n",
    "\n",
    "We've barely touched any of the pramaters for the algorithm, and these can have a huge impact on what the results look like.\n",
    "* n_components: int, optional (default: 2)\n",
    "* perplexity: float, optional (default: 30)\n",
    "* early_exaggeration: float, optional (default: 12.0)\n",
    "* learning_rate: float, optional (default: 200.0)\n",
    "* n_iter: int, optional (default: 1000)\n",
    "\n",
    "For one thing, understanding the results often requires viewing the data after applying multiple perplexity values. The best way to learn to read t-SNE plots is to try out a number of different parameters and see what effect they have. It is possible that our data would separate clearly even in a 2d plot given the right combination of parameters. \n",
    "\n",
    "Perplexity affects the influence that local and global distance have over the final results, and can completely change the representation. Rather than change these parameters individually, we can do a crossvalidation and plot all the results, picking one that shows the divisions we're looking for in the data. Or we can use interactive widgets to iterate through variations in our parameters.\n",
    "\n",
    "For this, we need to define a function that exposes all the parameters we would like to explore. The PCA step will be included before this step to reduce the time needed to retrain after each change. For now, we will just add perplexity and the number of iterations (n_iter) for this example."
   ]
  },
  {
   "cell_type": "code",
   "execution_count": null,
   "metadata": {
    "ExecuteTime": {
     "start_time": "2023-09-18T19:48:20.032147Z"
    }
   },
   "outputs": [],
   "source": [
    "pca0_interactive = time()\n",
    "X_pca_interactive = PCA(n_components=50).fit_transform(inputs)\n",
    "pca_time_interactive = time() - pca0_interactive\n",
    "\n",
    "classes = ['Strafrecht', 'Civiel recht', 'Bestuursrecht', 'Internationaal publiekrecht']\n",
    "color_names = ListedColormap(['blue', 'orange', 'green', 'purple'])\n",
    "color_mapping = {'Strafrecht': 0,\n",
    "                 'Civiel recht': 1,\n",
    "                 'Bestuursrecht': 2,\n",
    "                 'Internationaal publiekrecht': 3}\n",
    "colors = [color_mapping[doc.get('legal_domain')] for doc in parsed_docs]\n"
   ]
  },
  {
   "cell_type": "code",
   "execution_count": null,
   "metadata": {
    "ExecuteTime": {
     "start_time": "2023-09-18T19:48:20.032952Z"
    }
   },
   "outputs": [],
   "source": [
    "@interact(data=widgets.fixed(X_pca_interactive),\n",
    "         perplexity=widgets.IntSlider(min=5, max=100, step=5, value=30),\n",
    "         n_iter=widgets.IntSlider(min=500, max=5000, step=50, value=500)\n",
    "         )\n",
    "def explore_tsne(data, perplexity, n_iter):\n",
    "    tsne = TSNE(n_components=2, perplexity=perplexity, n_iter=n_iter,\n",
    "                init='pca', random_state=0, n_jobs=-1)\n",
    "    tsne0 = time()\n",
    "    X_tsne = tsne.fit_transform(data)\n",
    "    tsne_time = time() - tsne0\n",
    "\n",
    "    tsne_xy = list(zip(*X_tsne))\n",
    "\n",
    "    fig = plt.figure(figsize=(15.0, 15.0))\n",
    "    ax = fig.add_subplot(111)\n",
    "    ax.set_title(f\"t-SNE embedding of documents (time={tsne_time:.2f}s)\")\n",
    "\n",
    "    scatter = ax.scatter(tsne_xyz[0], tsne_xyz[1], \n",
    "                         c=colors, cmap=color_names, marker=\".\")\n",
    "    fig.legend(handles=scatter.legend_elements()[0], labels=classes, loc=\"lower right\")\n",
    "    plt.show()"
   ]
  },
  {
   "cell_type": "markdown",
   "metadata": {},
   "source": [
    "As a reminder, below is the default version of this plot."
   ]
  },
  {
   "cell_type": "code",
   "execution_count": null,
   "metadata": {
    "ExecuteTime": {
     "start_time": "2023-09-18T19:48:20.033833Z"
    }
   },
   "outputs": [],
   "source": [
    "explore_tsne(X_pca_interactive, 30, 1000)"
   ]
  },
  {
   "cell_type": "markdown",
   "metadata": {},
   "source": [
    "#### Some references\n",
    "t-SNE:\n",
    "* https://www.oreilly.com/content/an-illustrated-introduction-to-the-t-sne-algorithm/\n",
    "* https://distill.pub/2016/misread-tsne/\n",
    "\n",
    "ipywidgets:\n",
    "* https://towardsdatascience.com/interactive-controls-for-jupyter-notebooks-f5c94829aee6\n",
    "* https://ipywidgets.readthedocs.io/en/stable/index.html"
   ]
  }
 ],
 "metadata": {
  "kernelspec": {
   "display_name": "Python 3 (ipykernel)",
   "language": "python",
   "name": "python3"
  },
  "language_info": {
   "codemirror_mode": {
    "name": "ipython",
    "version": 3
   },
   "file_extension": ".py",
   "mimetype": "text/x-python",
   "name": "python",
   "nbconvert_exporter": "python",
   "pygments_lexer": "ipython3",
   "version": "3.11.5"
  }
 },
 "nbformat": 4,
 "nbformat_minor": 4
}
